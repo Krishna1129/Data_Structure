{
  "nbformat": 4,
  "nbformat_minor": 0,
  "metadata": {
    "colab": {
      "provenance": [],
      "collapsed_sections": [
        "bPfnawmBOQwE",
        "gJZui2B_WXfq"
      ]
    },
    "kernelspec": {
      "name": "python3",
      "display_name": "Python 3"
    },
    "language_info": {
      "name": "python"
    }
  },
  "cells": [
    {
      "cell_type": "markdown",
      "source": [
        "#Data Structure\n"
      ],
      "metadata": {
        "id": "P8tE3B5eOOgN"
      }
    },
    {
      "cell_type": "markdown",
      "source": [
        "##Theoratical Questions\n"
      ],
      "metadata": {
        "id": "bPfnawmBOQwE"
      }
    },
    {
      "cell_type": "markdown",
      "source": [
        "1. What are data structures, and why are they important?\n",
        "   - Data Structure is a way of organizing and storing data so that it can be acccessed and manipulated effeciently.Data structures is important because it help store and organize data in a way that makes it easy to use, fast to find, and efficient to manage."
      ],
      "metadata": {
        "id": "3xvSbWu1Ots5"
      }
    },
    {
      "cell_type": "code",
      "source": [
        "# 2.  Explain the difference between mutable and immutable data types with examples?\n",
        "      # Mutable data types can be changed after they are created. For example, a list in Python is mutable. You can change, add, or remove items in a list.\n",
        "      my_list = [1, 2, 3]\n",
        "      my_list[0] = 4\n",
        "      print(my_list)\n",
        "      # Immutable data types cannot be changed once they are created. For example, a string is immutable. You can't change a single character in a string after it is created.\n",
        "      my_string = \"hello\"\n",
        "\n",
        "\n"
      ],
      "metadata": {
        "id": "r-y0ljyfPzG7"
      },
      "execution_count": null,
      "outputs": []
    },
    {
      "cell_type": "markdown",
      "source": [
        "3. What are the main differences between lists and tuples in Python?\n",
        "   - Lists are mutable.\n",
        "     Tuples are immutable this is the major difference between list and tuple"
      ],
      "metadata": {
        "id": "RjJt1AHaOtyS"
      }
    },
    {
      "cell_type": "markdown",
      "source": [
        "4. Describe how dictionaries store data?\n",
        "   - Dictionaries store data in key-value pairs. Each key is unique, and it points to a specific value. You can use the key to quickly look up the value."
      ],
      "metadata": {
        "id": "w_RCe_PzOt0w"
      }
    },
    {
      "cell_type": "markdown",
      "source": [
        "5. Why might you use a set instead of a list in Python?\n",
        "   - You use a set instead of a list when you want:\n",
        "\n",
        "     No duplicates: Sets don’t allow repeating items.\n",
        "\n",
        "     Faster lookups: Checking if something is in a set is quicker.\n",
        "     \n",
        "     Set operations: You can easily do things like find common or different items between sets."
      ],
      "metadata": {
        "id": "uRTQBhVJOt3l"
      }
    },
    {
      "cell_type": "markdown",
      "source": [
        "6. What is a string in Python, and how is it different from a list?\n",
        "   - A string in Python is a series of characters, like a word or sentence. For example: \"Hello\".\n",
        "\n",
        "    Difference from a list:\n",
        "\n",
        "    A string is for text\n",
        "\n",
        "    A list can hold different types of items\n",
        "\n",
        "    Strings are immutable, but lists are mutable"
      ],
      "metadata": {
        "id": "AXTdUsNxOt6V"
      }
    },
    {
      "cell_type": "markdown",
      "source": [
        "7. How do tuples ensure data integrity in Python?\n",
        "   - Tuples ensure data integrity in Python because they are immutable, meaning once created, their data cannot be changed. This prevents accidental modifications to the data, helping keep it safe and consistent."
      ],
      "metadata": {
        "id": "A9df5iTuOt9M"
      }
    },
    {
      "cell_type": "markdown",
      "source": [
        "8. What is a hash table, and how does it relate to dictionaries in Python?\n",
        "   - A hash table is a data structure that stores data in key-value pairs and uses a hash function to quickly look up the value based on its key.\n",
        "\n",
        "    In Python, dictionaries are implemented using hash tables. When you use a dictionary, the key is passed through a hash function, and the resulting hash determines where the key-value pair is stored."
      ],
      "metadata": {
        "id": "nYXn---XOt_5"
      }
    },
    {
      "cell_type": "markdown",
      "source": [
        "9. Can lists contain different data types in Python?\n",
        "   - Yes, lists in Python can contain different data types. A list can have\n",
        "     numbers, strings, and other data types all mixed together."
      ],
      "metadata": {
        "id": "LaJU4pheOuCg"
      }
    },
    {
      "cell_type": "markdown",
      "source": [
        "\n",
        "10. Explain why strings are immutable in Python?\n",
        "    - Memory efficiency – If multiple variables store the same string, Python can reuse the same memory instead of creating new copies.\n",
        "\n",
        "    Security – Since strings can’t be changed, they are safer for storing important data like passwords.\n",
        "\n",
        "    Performance – Immutable objects are faster because they don’t need extra checks for changes."
      ],
      "metadata": {
        "id": "TsDN0qIyOuFX"
      }
    },
    {
      "cell_type": "markdown",
      "source": [
        "11. What advantages do dictionaries offer over lists for certain tasks?\n",
        "    - Fast Lookups – Dictionaries use a hash table, making key-based searches much faster than searching in a list.\n",
        "\n",
        "    Key-Value Pair Storage – Dictionaries store data as key-value pairs, making data retrieval more organized.\n",
        "\n",
        "    No Need for Indexing – In lists, you must know the index to access an item, but in dictionaries, you use meaningful keys"
      ],
      "metadata": {
        "id": "10l90rMzHoaj"
      }
    },
    {
      "cell_type": "markdown",
      "source": [
        "12.  Describe a scenario where using a tuple would be preferable over a list.\n",
        "     A tuple is preferable over a list when you want to store fixed data that should not be changed.\n",
        "\n",
        "    Example Scenario:\n",
        "    Storing coordinates (x, y) of a location.\n",
        "\n",
        "    coordinates = (10, 20)  \n",
        "    Here, coordinates should remain unchanged, so a tuple is better than a list."
      ],
      "metadata": {
        "id": "lhDmXUAlHooC"
      }
    },
    {
      "cell_type": "markdown",
      "source": [
        "13. How do sets handle duplicate values in Python?\n",
        "    - In Python, sets automatically remove duplicate values. When you add duplicate items to a set, only unique values are stored."
      ],
      "metadata": {
        "id": "Bi_tEFxCHows"
      }
    },
    {
      "cell_type": "markdown",
      "source": [
        "14. How does the “in” keyword work differently for lists and dictionaries?\n",
        "    - For Lists: The in keyword checks if a value exists in the list. It scans each item, so it takes longer for larger lists.\n",
        "    For Dictionaries: The in keyword checks if a key exists in the dictionary. It uses a hash table, making lookups much faster.\n",
        "\n"
      ],
      "metadata": {
        "id": "ANSFieHdHo3I"
      }
    },
    {
      "cell_type": "markdown",
      "source": [
        "15. Can you modify the elements of a tuple? Explain why or why not?\n",
        "    - No, you cannot modify the elements of a tuple in Python because tuples are immutable.\n",
        "    Once a tuple is created, its elements cannot be changed, added, or removed. This is done to ensure data integrity and to make tuples faster and more memory-efficient.\n",
        "\n",
        "    Immutability ensures that the data in a tuple stays the same, which is useful when you want to prevent accidental changes to important data."
      ],
      "metadata": {
        "id": "L6brLUPJHo9E"
      }
    },
    {
      "cell_type": "markdown",
      "source": [
        "16. What is a nested dictionary, and give an example of its use case?\n",
        "    - A nested dictionary is a dictionary where the values themselves are dictionaries. This allows you to create more complex data structures with multiple levels of key-value pairs.\n",
        "\n",
        "    Use Case Example:\n",
        "    A nested dictionary can be used to store information about multiple students, with each student having their own details like name, age, and grades ."
      ],
      "metadata": {
        "id": "fKh50NwAHpC_"
      }
    },
    {
      "cell_type": "markdown",
      "source": [
        "17. Describe the time complexity of accessing elements in a dictionary?\n",
        "    - Accessing elements in a dictionary in Python is very efficient with an average time complexity of O(1) constant time. This means that no matter how large the dictionary is, looking up a value by its key is fast and takes approximately the same time.\n"
      ],
      "metadata": {
        "id": "MmZ2bt-JQU6V"
      }
    },
    {
      "cell_type": "markdown",
      "source": [
        "18. In what situations are lists preferred over dictionaries?\n",
        "    - Order matters – Lists maintain the order of items.\n",
        "\n",
        "      Duplicates allowed – Lists can store duplicate values.\n",
        "\n",
        "      Access by index – Lists allow accessing elements by their position.\n",
        "\n",
        "      Simple data – Use lists for basic collections without key-value pairs"
      ],
      "metadata": {
        "id": "NEYo3hhFQVOc"
      }
    },
    {
      "cell_type": "markdown",
      "source": [
        "19. Why are dictionaries considered unordered, and how does that affect data retrieval?\n",
        "    - Dictionaries are considered unordered because they use hash tables to store data, not an ordered structure. This means data retrieval is fast (O(1)), but you can't access elements by index, only by key."
      ],
      "metadata": {
        "id": "hEkBnUb4QVSr"
      }
    },
    {
      "cell_type": "markdown",
      "source": [
        "20.  Explain the difference between a list and a dictionary in terms of data retrieval.\n",
        "     - List: Retrieves data by index, slower (O(n)).\n",
        "\n",
        "       Dictionary: Retrieves data by key, faster (O(1))."
      ],
      "metadata": {
        "id": "A2eVWGH3QVV3"
      }
    },
    {
      "cell_type": "markdown",
      "source": [
        "##Practical Questions\n"
      ],
      "metadata": {
        "id": "gJZui2B_WXfq"
      }
    },
    {
      "cell_type": "code",
      "source": [
        "# 1. Write a code to create a string with your name and print it.\n",
        "name = \"Alice\"\n",
        "print(name)\n"
      ],
      "metadata": {
        "id": "9UJot3OGWbfH"
      },
      "execution_count": null,
      "outputs": []
    },
    {
      "cell_type": "code",
      "source": [
        "# 2. Write a code to find the length of the string \"Hello World\".\n",
        "string = \"Hello World\"\n",
        "length = len(string)\n",
        "print(length)\n"
      ],
      "metadata": {
        "id": "tk3xu5m8WifH"
      },
      "execution_count": null,
      "outputs": []
    },
    {
      "cell_type": "code",
      "source": [
        "# 3. Write a code to slice the first 3 characters from the string \"Python Programming\".\n",
        "string = \"Python Programming\"\n",
        "sliced_string = string[:3]\n",
        "print(sliced_string)"
      ],
      "metadata": {
        "id": "ZXO95rhRWib6"
      },
      "execution_count": null,
      "outputs": []
    },
    {
      "cell_type": "code",
      "source": [
        "# 4. Write a code to convert the string \"hello\" to uppercase?\n",
        "string = \"hello\"\n",
        "uppercase_string = string.upper()\n",
        "print(uppercase_string)"
      ],
      "metadata": {
        "id": "D67zfbNQWhiF"
      },
      "execution_count": null,
      "outputs": []
    },
    {
      "cell_type": "code",
      "source": [
        "# 5.Write a code to replace the word \"apple\" with \"orange\" in the string \"I like apple\".\n",
        "string = \"I like apple\"\n",
        "new_string = string.replace(\"apple\", \"orange\")\n",
        "print(new_string)"
      ],
      "metadata": {
        "id": "x0XESTjGWhfQ"
      },
      "execution_count": null,
      "outputs": []
    },
    {
      "cell_type": "code",
      "source": [
        "# 6. Write a code to create a list with numbers 1 to 5 and print it?\n",
        "numbers = [1, 2, 3, 4, 5]\n",
        "print(numbers)"
      ],
      "metadata": {
        "id": "aMUhXfshWhcR"
      },
      "execution_count": null,
      "outputs": []
    },
    {
      "cell_type": "code",
      "source": [
        "# 7. Write a code to remove the number 3 from the list [1, 2, 3, 4, 5].\n",
        "numbers = [1, 2, 3, 4, 5]\n",
        "numbers.remove(3)\n",
        "print(numbers)"
      ],
      "metadata": {
        "id": "gwZcEK21WhVD"
      },
      "execution_count": null,
      "outputs": []
    },
    {
      "cell_type": "code",
      "source": [
        "# 8. Write a code to remove the number 3 from the list [1, 2, 3, 4, 5].\n",
        "numbers = [1, 2, 3, 4, 5]\n",
        "numbers.remove(3)\n",
        "print(numbers)"
      ],
      "metadata": {
        "id": "r5uptea6Wc14"
      },
      "execution_count": null,
      "outputs": []
    },
    {
      "cell_type": "code",
      "source": [
        "# 9. Write a code to access the second element in the list ['a', 'b', 'c', 'd'].\n",
        "letters = ['a', 'b', 'c', 'd']\n",
        "second_element = letters[1]\n",
        "print(second_element)"
      ],
      "metadata": {
        "id": "BYN744L8Wcza"
      },
      "execution_count": null,
      "outputs": []
    },
    {
      "cell_type": "code",
      "source": [
        "# 10.Write a code to reverse the list [10, 20, 30, 40, 50].\n",
        "numbers = [10, 20, 30, 40, 50]\n",
        "reversed_numbers = numbers[::-1]\n",
        "print(reversed_numbers)"
      ],
      "metadata": {
        "id": "ha6N-KbtWcwl"
      },
      "execution_count": null,
      "outputs": []
    },
    {
      "cell_type": "code",
      "source": [
        "# 11.Write a code to create a tuple with the elements 100, 200, 300 and print it.\n",
        "numbers = (100, 200, 300)\n",
        "print(numbers)"
      ],
      "metadata": {
        "id": "Sm32dKPbWctm"
      },
      "execution_count": null,
      "outputs": []
    },
    {
      "cell_type": "code",
      "source": [
        "# 12.Write a code to access the second-to-last element of the tuple ('red', 'green', 'blue', 'yellow').\n",
        "colors = ('red', 'green', 'blue', 'yellow')\n",
        "second_to_last_element = colors[-2]\n",
        "print(second_to_last_element)"
      ],
      "metadata": {
        "id": "rQbDN705Wcq4"
      },
      "execution_count": null,
      "outputs": []
    },
    {
      "cell_type": "code",
      "source": [
        "# 13. Write a code to find the minimum number in the tuple (10, 20, 5, 15).\n",
        "numbers = (10, 20, 5, 15)\n",
        "minimum_number = min(numbers)\n",
        "print(minimum_number)"
      ],
      "metadata": {
        "id": "XNBftLlfWcn8"
      },
      "execution_count": null,
      "outputs": []
    },
    {
      "cell_type": "code",
      "source": [
        "# 14. Write a code to find the index of the element \"cat\" in the tuple ('dog', 'cat', 'rabbit').\n",
        "animals = ('dog', 'cat', 'rabbit')\n",
        "cat_index = animals.index('cat')\n",
        "print(cat_index)"
      ],
      "metadata": {
        "id": "gJpug6NXWcf9"
      },
      "execution_count": null,
      "outputs": []
    },
    {
      "cell_type": "code",
      "source": [
        "# 15.  Write a code to create a tuple containing three different fruits and check if \"kiwi\" is in it\n",
        "fruits = ('apple', 'banana', 'orange')\n",
        "is_kiwi_in_tuple = 'kiwi' in fruits\n",
        "print(is_kiwi_in_tuple)"
      ],
      "metadata": {
        "id": "x77rxURHWgRh"
      },
      "execution_count": null,
      "outputs": []
    },
    {
      "cell_type": "code",
      "source": [
        "# 16.  Write a code to create a set with the elements 'a', 'b', 'c' and print it.\n",
        "letters = {'a', 'b', 'c'}\n",
        "print(letters)"
      ],
      "metadata": {
        "id": "1PUnntt8WgOj"
      },
      "execution_count": null,
      "outputs": []
    },
    {
      "cell_type": "code",
      "source": [
        "# 17. Write a code to clear all elements from the set {1, 2, 3, 4, 5}.\n",
        "numbers = {1, 2, 3, 4, 5}\n",
        "numbers.clear()\n",
        "print(numbers)\n"
      ],
      "metadata": {
        "id": "sd7oXMKvWgLV"
      },
      "execution_count": null,
      "outputs": []
    },
    {
      "cell_type": "code",
      "source": [
        "# 18.  Write a code to remove the element 4 from the set {1, 2, 3, 4}.\n",
        "numbers = {1, 2, 3, 4}\n",
        "numbers.remove(4)\n",
        "print(numbers)"
      ],
      "metadata": {
        "id": "x1ipTQouWgGI"
      },
      "execution_count": null,
      "outputs": []
    },
    {
      "cell_type": "code",
      "source": [
        "# 19. Write a code to find the union of two sets {1, 2, 3} and {3, 4, 5}.\n",
        "set1 = {1, 2, 3}\n",
        "set2 = {3, 4, 5}\n",
        "union_set = set1.union(set2)\n",
        "print(union_set)"
      ],
      "metadata": {
        "id": "c_pDJH-eWgDb"
      },
      "execution_count": null,
      "outputs": []
    },
    {
      "cell_type": "code",
      "source": [
        "# 20. Write a code to find the intersection of two sets {1, 2, 3} and {2, 3, 4}.\n",
        "set1 = {1, 2, 3}\n",
        "set2 = {2, 3, 4}\n",
        "intersection_set = set1.intersection(set2)\n",
        "print(intersection_set)"
      ],
      "metadata": {
        "id": "W-d-SW9kWgAN"
      },
      "execution_count": null,
      "outputs": []
    },
    {
      "cell_type": "code",
      "source": [
        "# 21.  Write a code to create a dictionary with the keys \"name\", \"age\", and \"city\", and print it\n",
        "person = {\n",
        "    \"name\": \"Alice\",\n",
        "    \"age\": 30,\n",
        "    \"city\": \"New York\"\n",
        "}\n",
        "print(person)"
      ],
      "metadata": {
        "id": "1r4e0N91Wf9I"
      },
      "execution_count": null,
      "outputs": []
    },
    {
      "cell_type": "code",
      "source": [
        "# 22. Write a code to add a new key-value pair \"country\": \"USA\" to the dictionary {'name': 'John', 'age': 25}\n",
        "person = {'name': 'John', 'age': 25}\n",
        "person['country'] = 'USA'\n",
        "print(person)"
      ],
      "metadata": {
        "id": "t0k8P2owWf6B"
      },
      "execution_count": null,
      "outputs": []
    },
    {
      "cell_type": "code",
      "source": [
        "# 23. Write a code to access the value associated with the key \"name\" in the dictionary {'name': 'Alice', 'age': 30}\n",
        "person = {'name': 'Alice', 'age': 30}\n",
        "name_value = person['name']\n",
        "print(name_value)"
      ],
      "metadata": {
        "id": "FNRJJ2FcWf27"
      },
      "execution_count": null,
      "outputs": []
    },
    {
      "cell_type": "code",
      "source": [
        "# 24. Write a code to remove the key \"age\" from the dictionary {'name': 'Bob', 'age': 22, 'city': 'New York'}.\n",
        "person = {'name': 'Bob', 'age': 22, 'city': 'New York'}\n",
        "del person['age']\n",
        "print(person)"
      ],
      "metadata": {
        "id": "8tDvpDsjWfx4"
      },
      "execution_count": null,
      "outputs": []
    },
    {
      "cell_type": "code",
      "source": [
        "# 25. Write a code to check if the key \"city\" exists in the dictionary {'name': 'Alice', 'city': 'Paris'}.\n",
        "person = {'name': 'Alice', 'city': 'Paris'}\n",
        "city_exists = 'city' in person\n",
        "print(city_exists)"
      ],
      "metadata": {
        "id": "FV2_SPPrWfsM"
      },
      "execution_count": null,
      "outputs": []
    },
    {
      "cell_type": "code",
      "source": [
        "# 26. Write a code to create a list, a tuple, and a dictionary, and print them all.\n",
        "\n",
        "my_list = [1, 2, 3, \"apple\", \"banana\"]\n",
        "my_tuple = (10, 20, 30, \"cat\", \"dog\")\n",
        "my_dict = {\"name\": \"Alice\", \"age\": 25, \"city\": \"New York\"}\n",
        "print(\"List:\", my_list)\n",
        "print(\"Tuple:\", my_tuple)\n",
        "print(\"Dictionary:\", my_dict)\n",
        "\n"
      ],
      "metadata": {
        "id": "Nycru7L2WfpG"
      },
      "execution_count": null,
      "outputs": []
    },
    {
      "cell_type": "code",
      "source": [
        "# 27. Write a code to create a list of 5 random numbers between 1 and 100, sort it in ascending order, and print the result.(replaced)\n"
      ],
      "metadata": {
        "id": "B4cPtChSWfmA"
      },
      "execution_count": null,
      "outputs": []
    },
    {
      "cell_type": "code",
      "source": [
        "# 28. Write a code to create a list with strings and print the element at the third index.\n",
        "strings = [\"apple\", \"banana\", \"cherry\", \"date\", \"elderberry\"]\n",
        "third_element = strings[2]\n",
        "print(third_element)"
      ],
      "metadata": {
        "id": "uOkSjBfVWcU7"
      },
      "execution_count": null,
      "outputs": []
    },
    {
      "cell_type": "code",
      "source": [
        "# 29.  Write a code to combine two dictionaries into one and print the result.\n",
        "dict1 = {'a': 1, 'b': 2}\n",
        "dict2 = {'c': 3, 'd': 4}\n",
        "combined_dict = {**dict1, **dict2}\n",
        "print(combined_dict)"
      ],
      "metadata": {
        "id": "NIMBS-R0e_Vk"
      },
      "execution_count": null,
      "outputs": []
    },
    {
      "cell_type": "code",
      "source": [
        "# 30. Write a code to convert a list of strings into a set.\n",
        "strings = [\"apple\", \"banana\", \"cherry\", \"apple\", \"banana\"]\n",
        "string_set = set(strings)\n",
        "print(string_set)"
      ],
      "metadata": {
        "id": "4IB0k9_Ke_bw"
      },
      "execution_count": null,
      "outputs": []
    }
  ]
}